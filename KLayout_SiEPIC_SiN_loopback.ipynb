{
  "nbformat": 4,
  "nbformat_minor": 0,
  "metadata": {
    "colab": {
      "provenance": [],
      "include_colab_link": true
    },
    "kernelspec": {
      "name": "python3",
      "display_name": "Python 3"
    },
    "language_info": {
      "name": "python"
    }
  },
  "cells": [
    {
      "cell_type": "markdown",
      "metadata": {
        "id": "view-in-github",
        "colab_type": "text"
      },
      "source": [
        "<a href=\"https://colab.research.google.com/github/raeditio/UBC-ELEC413-2025Fall/blob/main/KLayout_SiEPIC_SiN_loopback.ipynb\" target=\"_parent\"><img src=\"https://colab.research.google.com/assets/colab-badge.svg\" alt=\"Open In Colab\"/></a>"
      ]
    },
    {
      "cell_type": "code",
      "execution_count": null,
      "metadata": {
        "colab": {
          "base_uri": "https://localhost:8080/",
          "height": 338
        },
        "id": "qNa5kWDCigSa",
        "outputId": "2e815760-e73b-485a-fd98-b5a3455eadca"
      },
      "outputs": [
        {
          "output_type": "stream",
          "name": "stdout",
          "text": [
            "Design for Test rules from layout label: /usr/local/lib/python3.12/dist-packages/dft_aim_siepic_laser_pic_project1/DFT.xml\n",
            " - load_Verification, path: /usr/local/lib/python3.12/dist-packages/siepic_ebeam_pdk\n",
            " - load_Verification, matches: ['/usr/local/lib/python3.12/dist-packages/siepic_ebeam_pdk/Verification.xml']\n",
            "No errors found\n"
          ]
        },
        {
          "output_type": "execute_result",
          "data": {
            "image/png": "[encoded data removed]",
            "text/plain": [
              "<IPython.core.display.Image object>"
            ]
          },
          "metadata": {
            "image/png": {
              "width": 400,
              "height": 250
            }
          },
          "execution_count": 4
        }
      ],
      "source": [
        "# Minimal example, of a pair of grating couplers\n",
        "# and verification using design for test rules for Project 1\n",
        "\n",
        "\n",
        "try:\n",
        "    import siepic_ebeam_pdk, dft_aim_siepic_laser_pic_project1\n",
        "except:\n",
        "    !pip install siepic_ebeam_pdk dft_aim_siepic_laser_pic_project1 # this includes the dependancies\n",
        "\n",
        "import pya # KLayout Python API\n",
        "import SiEPIC  # import module for SiEPIC-Tools, helper functions for KLayout\n",
        "import siepic_ebeam_pdk  # import module for the SiEPIC-EBeam-PDK technology\n",
        "from SiEPIC.utils.layout import new_layout\n",
        "\n",
        "# New layout\n",
        "tech_name, top_cell_name = 'EBeam', 'Top'\n",
        "topcell, ly = new_layout(tech_name, top_cell_name)\n",
        "\n",
        "# Floorplan\n",
        "from SiEPIC.utils.layout import floorplan\n",
        "floorplan(topcell, 800e3, 500e3)\n",
        "\n",
        "# Get Technology\n",
        "from SiEPIC.utils import get_technology_by_name\n",
        "TECHNOLOGY = get_technology_by_name(tech_name)\n",
        "\n",
        "# Grating coupler loopback, as a calibration and test\n",
        "\n",
        "# Load cell\n",
        "from SiEPIC.utils import create_cell2\n",
        "cell = create_cell2(ly, 'GC_SiN_TE_1310_8degOxide_BB', 'EBeam-SiN')\n",
        "\n",
        "# Instantiate GC in the layout with position and rotation\n",
        "t = pya.Trans(pya.Trans.R180, 740e3, 15e3)\n",
        "inst_gc1 = topcell.insert(\n",
        "    pya.CellInstArray(cell.cell_index(), t))\n",
        "t = pya.Trans(pya.Trans.R180, 740e3,15e3 + 127e3 * 3)\n",
        "inst_gc2 = topcell.insert(pya.CellInstArray(cell.cell_index(), t))\n",
        "\n",
        "# Add label for automated testing, on the top grating coupler\n",
        "t = pya.Trans(pya.Trans.R0, 740e3,15e3 + 127e3 * 3)\n",
        "text = pya.Text (\"opt_in_TE_1310_device_studentname_MZI\", t)\n",
        "text.halign = pya.Text.HAlignRight\n",
        "s = topcell.shapes(ly.layer(ly.TECHNOLOGY['Text'])).insert(text)\n",
        "s.text_size = 10/ly.dbu # font size\n",
        "\n",
        "# Find out what types of waveguides are defined in the PDK\n",
        "from SiEPIC.utils import load_Waveguides_by_Tech\n",
        "waveguide_types = load_Waveguides_by_Tech(tech_name)\n",
        "\n",
        "for w in waveguide_types:\n",
        "    if 'SiN' in w['name'] and '1310' in w['name'] and 'w=750' in w['name']:\n",
        "        wg_type = w['name']\n",
        "\n",
        "# Draw a waveguide path from one instance pin to another\n",
        "from SiEPIC.scripts import connect_pins_with_waveguide\n",
        "wg = connect_pins_with_waveguide(inst_gc1, 'opt1',\n",
        "                                 inst_gc2, 'opt1',\n",
        "                                 waveguide_type=wg_type,\n",
        "                                )\n",
        "\n",
        "# Verification\n",
        "\n",
        "# Run verification\n",
        "# use default design for test rules in the PDK, which should give an error\n",
        "from SiEPIC.verification import layout_check\n",
        "# num_errors = layout_check(cell=topcell)\n",
        "\n",
        "# Design for Test rules\n",
        "t = pya.Trans(pya.Trans.R0, 0, 500e3)\n",
        "text = pya.Text (\"DFT=DFT_AIM_SiEPIC_Laser_PIC_Project1\", t)\n",
        "text.valign = pya.Text.VAlignTop\n",
        "topcell.shapes(ly.layer(ly.TECHNOLOGY['Text'])).insert(text).text_size = 10/ly.dbu\n",
        "\n",
        "# Run verification\n",
        "num_errors = layout_check(cell=topcell)\n",
        "#num_errors = layout_check(cell=topcell,\n",
        "#                          dft_module=\"dft_aim_siepic_laser_pic_project1\")\n",
        "\n",
        "if not num_errors:\n",
        "    print(f'No errors found')\n",
        "\n",
        "topcell.plot(width = 400)"
      ]
    },
    {
      "cell_type": "code",
      "source": [
        "topcell.show() # in KLayout\n"
      ],
      "metadata": {
        "colab": {
          "base_uri": "https://localhost:8080/"
        },
        "id": "ISJBB5X1um0T",
        "outputId": "8e2786f8-1b48-4148-8976-325672330428"
      },
      "execution_count": null,
      "outputs": [
        {
          "output_type": "stream",
          "name": "stdout",
          "text": [
            "Could not connect to klive server. Is klayout open and klive plugin installed?\n"
          ]
        }
      ]
    },
    {
      "cell_type": "code",
      "source": [],
      "metadata": {
        "id": "Qfl1DvEJu0J3"
      },
      "execution_count": null,
      "outputs": []
    }
  ]
}